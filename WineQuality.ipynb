{
 "cells": [
  {
   "cell_type": "code",
   "execution_count": 1,
   "id": "c2cb4630",
   "metadata": {},
   "outputs": [
    {
     "data": {
      "text/html": [
       "<div>\n",
       "<style scoped>\n",
       "    .dataframe tbody tr th:only-of-type {\n",
       "        vertical-align: middle;\n",
       "    }\n",
       "\n",
       "    .dataframe tbody tr th {\n",
       "        vertical-align: top;\n",
       "    }\n",
       "\n",
       "    .dataframe thead th {\n",
       "        text-align: right;\n",
       "    }\n",
       "</style>\n",
       "<table border=\"1\" class=\"dataframe\">\n",
       "  <thead>\n",
       "    <tr style=\"text-align: right;\">\n",
       "      <th></th>\n",
       "      <th>fixed acidity</th>\n",
       "      <th>volatile acidity</th>\n",
       "      <th>citric acid</th>\n",
       "      <th>residual sugar</th>\n",
       "      <th>chlorides</th>\n",
       "      <th>free sulfur dioxide</th>\n",
       "      <th>total sulfur dioxide</th>\n",
       "      <th>density</th>\n",
       "      <th>pH</th>\n",
       "      <th>sulphates</th>\n",
       "      <th>alcohol</th>\n",
       "      <th>quality</th>\n",
       "    </tr>\n",
       "  </thead>\n",
       "  <tbody>\n",
       "    <tr>\n",
       "      <th>0</th>\n",
       "      <td>7.4</td>\n",
       "      <td>0.70</td>\n",
       "      <td>0.00</td>\n",
       "      <td>1.9</td>\n",
       "      <td>0.076</td>\n",
       "      <td>11.0</td>\n",
       "      <td>34.0</td>\n",
       "      <td>0.9978</td>\n",
       "      <td>3.51</td>\n",
       "      <td>0.56</td>\n",
       "      <td>9.4</td>\n",
       "      <td>5</td>\n",
       "    </tr>\n",
       "    <tr>\n",
       "      <th>1</th>\n",
       "      <td>7.8</td>\n",
       "      <td>0.88</td>\n",
       "      <td>0.00</td>\n",
       "      <td>2.6</td>\n",
       "      <td>0.098</td>\n",
       "      <td>25.0</td>\n",
       "      <td>67.0</td>\n",
       "      <td>0.9968</td>\n",
       "      <td>3.20</td>\n",
       "      <td>0.68</td>\n",
       "      <td>9.8</td>\n",
       "      <td>5</td>\n",
       "    </tr>\n",
       "    <tr>\n",
       "      <th>2</th>\n",
       "      <td>7.8</td>\n",
       "      <td>0.76</td>\n",
       "      <td>0.04</td>\n",
       "      <td>2.3</td>\n",
       "      <td>0.092</td>\n",
       "      <td>15.0</td>\n",
       "      <td>54.0</td>\n",
       "      <td>0.9970</td>\n",
       "      <td>3.26</td>\n",
       "      <td>0.65</td>\n",
       "      <td>9.8</td>\n",
       "      <td>5</td>\n",
       "    </tr>\n",
       "    <tr>\n",
       "      <th>3</th>\n",
       "      <td>11.2</td>\n",
       "      <td>0.28</td>\n",
       "      <td>0.56</td>\n",
       "      <td>1.9</td>\n",
       "      <td>0.075</td>\n",
       "      <td>17.0</td>\n",
       "      <td>60.0</td>\n",
       "      <td>0.9980</td>\n",
       "      <td>3.16</td>\n",
       "      <td>0.58</td>\n",
       "      <td>9.8</td>\n",
       "      <td>6</td>\n",
       "    </tr>\n",
       "    <tr>\n",
       "      <th>4</th>\n",
       "      <td>7.4</td>\n",
       "      <td>0.70</td>\n",
       "      <td>0.00</td>\n",
       "      <td>1.9</td>\n",
       "      <td>0.076</td>\n",
       "      <td>11.0</td>\n",
       "      <td>34.0</td>\n",
       "      <td>0.9978</td>\n",
       "      <td>3.51</td>\n",
       "      <td>0.56</td>\n",
       "      <td>9.4</td>\n",
       "      <td>5</td>\n",
       "    </tr>\n",
       "  </tbody>\n",
       "</table>\n",
       "</div>"
      ],
      "text/plain": [
       "   fixed acidity  volatile acidity  citric acid  residual sugar  chlorides  \\\n",
       "0            7.4              0.70         0.00             1.9      0.076   \n",
       "1            7.8              0.88         0.00             2.6      0.098   \n",
       "2            7.8              0.76         0.04             2.3      0.092   \n",
       "3           11.2              0.28         0.56             1.9      0.075   \n",
       "4            7.4              0.70         0.00             1.9      0.076   \n",
       "\n",
       "   free sulfur dioxide  total sulfur dioxide  density    pH  sulphates  \\\n",
       "0                 11.0                  34.0   0.9978  3.51       0.56   \n",
       "1                 25.0                  67.0   0.9968  3.20       0.68   \n",
       "2                 15.0                  54.0   0.9970  3.26       0.65   \n",
       "3                 17.0                  60.0   0.9980  3.16       0.58   \n",
       "4                 11.0                  34.0   0.9978  3.51       0.56   \n",
       "\n",
       "   alcohol  quality  \n",
       "0      9.4        5  \n",
       "1      9.8        5  \n",
       "2      9.8        5  \n",
       "3      9.8        6  \n",
       "4      9.4        5  "
      ]
     },
     "execution_count": 1,
     "metadata": {},
     "output_type": "execute_result"
    }
   ],
   "source": [
    "import pandas as pd\n",
    "dataset = pd.read_csv(\"winequality-red.csv\")\n",
    "dataset.head()"
   ]
  },
  {
   "cell_type": "code",
   "execution_count": 2,
   "id": "8d75dfda",
   "metadata": {},
   "outputs": [
    {
     "name": "stdout",
     "output_type": "stream",
     "text": [
      "boş değer yok --> 0. sütun\n",
      "boş değer yok --> 1. sütun\n",
      "boş değer yok --> 2. sütun\n",
      "boş değer yok --> 3. sütun\n",
      "boş değer yok --> 4. sütun\n",
      "boş değer yok --> 5. sütun\n",
      "boş değer yok --> 6. sütun\n",
      "boş değer yok --> 7. sütun\n",
      "boş değer yok --> 8. sütun\n",
      "boş değer yok --> 9. sütun\n",
      "boş değer yok --> 10. sütun\n",
      "boş değer yok --> 11. sütun\n"
     ]
    }
   ],
   "source": [
    "for x in range(0,12):\n",
    "    if dataset.iloc[:, x].isnull().sum() > 0:\n",
    "        print(\"boş değer var --> {}.\".format(x))\n",
    "    else :\n",
    "        print(\"boş değer yok --> {}. sütun\".format(x))"
   ]
  },
  {
   "cell_type": "code",
   "execution_count": 3,
   "id": "af90c417",
   "metadata": {},
   "outputs": [
    {
     "data": {
      "text/plain": [
       "fixed acidity           0\n",
       "volatile acidity        0\n",
       "citric acid             0\n",
       "residual sugar          0\n",
       "chlorides               0\n",
       "free sulfur dioxide     0\n",
       "total sulfur dioxide    0\n",
       "density                 0\n",
       "pH                      0\n",
       "sulphates               0\n",
       "alcohol                 0\n",
       "quality                 0\n",
       "dtype: int64"
      ]
     },
     "execution_count": 3,
     "metadata": {},
     "output_type": "execute_result"
    }
   ],
   "source": [
    "#checking for missing values\n",
    "dataset.isnull().sum()"
   ]
  },
  {
   "cell_type": "markdown",
   "id": "68dfa345",
   "metadata": {},
   "source": [
    "### Data Analysis and Visulaization"
   ]
  },
  {
   "cell_type": "code",
   "execution_count": 4,
   "id": "eddc8341",
   "metadata": {},
   "outputs": [
    {
     "data": {
      "text/html": [
       "<div>\n",
       "<style scoped>\n",
       "    .dataframe tbody tr th:only-of-type {\n",
       "        vertical-align: middle;\n",
       "    }\n",
       "\n",
       "    .dataframe tbody tr th {\n",
       "        vertical-align: top;\n",
       "    }\n",
       "\n",
       "    .dataframe thead th {\n",
       "        text-align: right;\n",
       "    }\n",
       "</style>\n",
       "<table border=\"1\" class=\"dataframe\">\n",
       "  <thead>\n",
       "    <tr style=\"text-align: right;\">\n",
       "      <th></th>\n",
       "      <th>fixed acidity</th>\n",
       "      <th>volatile acidity</th>\n",
       "      <th>citric acid</th>\n",
       "      <th>residual sugar</th>\n",
       "      <th>chlorides</th>\n",
       "      <th>free sulfur dioxide</th>\n",
       "      <th>total sulfur dioxide</th>\n",
       "      <th>density</th>\n",
       "      <th>pH</th>\n",
       "      <th>sulphates</th>\n",
       "      <th>alcohol</th>\n",
       "      <th>quality</th>\n",
       "    </tr>\n",
       "  </thead>\n",
       "  <tbody>\n",
       "    <tr>\n",
       "      <th>count</th>\n",
       "      <td>1599.000000</td>\n",
       "      <td>1599.000000</td>\n",
       "      <td>1599.000000</td>\n",
       "      <td>1599.000000</td>\n",
       "      <td>1599.000000</td>\n",
       "      <td>1599.000000</td>\n",
       "      <td>1599.000000</td>\n",
       "      <td>1599.000000</td>\n",
       "      <td>1599.000000</td>\n",
       "      <td>1599.000000</td>\n",
       "      <td>1599.000000</td>\n",
       "      <td>1599.000000</td>\n",
       "    </tr>\n",
       "    <tr>\n",
       "      <th>mean</th>\n",
       "      <td>8.319637</td>\n",
       "      <td>0.527821</td>\n",
       "      <td>0.270976</td>\n",
       "      <td>2.538806</td>\n",
       "      <td>0.087467</td>\n",
       "      <td>15.874922</td>\n",
       "      <td>46.467792</td>\n",
       "      <td>0.996747</td>\n",
       "      <td>3.311113</td>\n",
       "      <td>0.658149</td>\n",
       "      <td>10.422983</td>\n",
       "      <td>5.636023</td>\n",
       "    </tr>\n",
       "    <tr>\n",
       "      <th>std</th>\n",
       "      <td>1.741096</td>\n",
       "      <td>0.179060</td>\n",
       "      <td>0.194801</td>\n",
       "      <td>1.409928</td>\n",
       "      <td>0.047065</td>\n",
       "      <td>10.460157</td>\n",
       "      <td>32.895324</td>\n",
       "      <td>0.001887</td>\n",
       "      <td>0.154386</td>\n",
       "      <td>0.169507</td>\n",
       "      <td>1.065668</td>\n",
       "      <td>0.807569</td>\n",
       "    </tr>\n",
       "    <tr>\n",
       "      <th>min</th>\n",
       "      <td>4.600000</td>\n",
       "      <td>0.120000</td>\n",
       "      <td>0.000000</td>\n",
       "      <td>0.900000</td>\n",
       "      <td>0.012000</td>\n",
       "      <td>1.000000</td>\n",
       "      <td>6.000000</td>\n",
       "      <td>0.990070</td>\n",
       "      <td>2.740000</td>\n",
       "      <td>0.330000</td>\n",
       "      <td>8.400000</td>\n",
       "      <td>3.000000</td>\n",
       "    </tr>\n",
       "    <tr>\n",
       "      <th>25%</th>\n",
       "      <td>7.100000</td>\n",
       "      <td>0.390000</td>\n",
       "      <td>0.090000</td>\n",
       "      <td>1.900000</td>\n",
       "      <td>0.070000</td>\n",
       "      <td>7.000000</td>\n",
       "      <td>22.000000</td>\n",
       "      <td>0.995600</td>\n",
       "      <td>3.210000</td>\n",
       "      <td>0.550000</td>\n",
       "      <td>9.500000</td>\n",
       "      <td>5.000000</td>\n",
       "    </tr>\n",
       "    <tr>\n",
       "      <th>50%</th>\n",
       "      <td>7.900000</td>\n",
       "      <td>0.520000</td>\n",
       "      <td>0.260000</td>\n",
       "      <td>2.200000</td>\n",
       "      <td>0.079000</td>\n",
       "      <td>14.000000</td>\n",
       "      <td>38.000000</td>\n",
       "      <td>0.996750</td>\n",
       "      <td>3.310000</td>\n",
       "      <td>0.620000</td>\n",
       "      <td>10.200000</td>\n",
       "      <td>6.000000</td>\n",
       "    </tr>\n",
       "    <tr>\n",
       "      <th>75%</th>\n",
       "      <td>9.200000</td>\n",
       "      <td>0.640000</td>\n",
       "      <td>0.420000</td>\n",
       "      <td>2.600000</td>\n",
       "      <td>0.090000</td>\n",
       "      <td>21.000000</td>\n",
       "      <td>62.000000</td>\n",
       "      <td>0.997835</td>\n",
       "      <td>3.400000</td>\n",
       "      <td>0.730000</td>\n",
       "      <td>11.100000</td>\n",
       "      <td>6.000000</td>\n",
       "    </tr>\n",
       "    <tr>\n",
       "      <th>max</th>\n",
       "      <td>15.900000</td>\n",
       "      <td>1.580000</td>\n",
       "      <td>1.000000</td>\n",
       "      <td>15.500000</td>\n",
       "      <td>0.611000</td>\n",
       "      <td>72.000000</td>\n",
       "      <td>289.000000</td>\n",
       "      <td>1.003690</td>\n",
       "      <td>4.010000</td>\n",
       "      <td>2.000000</td>\n",
       "      <td>14.900000</td>\n",
       "      <td>8.000000</td>\n",
       "    </tr>\n",
       "  </tbody>\n",
       "</table>\n",
       "</div>"
      ],
      "text/plain": [
       "       fixed acidity  volatile acidity  citric acid  residual sugar  \\\n",
       "count    1599.000000       1599.000000  1599.000000     1599.000000   \n",
       "mean        8.319637          0.527821     0.270976        2.538806   \n",
       "std         1.741096          0.179060     0.194801        1.409928   \n",
       "min         4.600000          0.120000     0.000000        0.900000   \n",
       "25%         7.100000          0.390000     0.090000        1.900000   \n",
       "50%         7.900000          0.520000     0.260000        2.200000   \n",
       "75%         9.200000          0.640000     0.420000        2.600000   \n",
       "max        15.900000          1.580000     1.000000       15.500000   \n",
       "\n",
       "         chlorides  free sulfur dioxide  total sulfur dioxide      density  \\\n",
       "count  1599.000000          1599.000000           1599.000000  1599.000000   \n",
       "mean      0.087467            15.874922             46.467792     0.996747   \n",
       "std       0.047065            10.460157             32.895324     0.001887   \n",
       "min       0.012000             1.000000              6.000000     0.990070   \n",
       "25%       0.070000             7.000000             22.000000     0.995600   \n",
       "50%       0.079000            14.000000             38.000000     0.996750   \n",
       "75%       0.090000            21.000000             62.000000     0.997835   \n",
       "max       0.611000            72.000000            289.000000     1.003690   \n",
       "\n",
       "                pH    sulphates      alcohol      quality  \n",
       "count  1599.000000  1599.000000  1599.000000  1599.000000  \n",
       "mean      3.311113     0.658149    10.422983     5.636023  \n",
       "std       0.154386     0.169507     1.065668     0.807569  \n",
       "min       2.740000     0.330000     8.400000     3.000000  \n",
       "25%       3.210000     0.550000     9.500000     5.000000  \n",
       "50%       3.310000     0.620000    10.200000     6.000000  \n",
       "75%       3.400000     0.730000    11.100000     6.000000  \n",
       "max       4.010000     2.000000    14.900000     8.000000  "
      ]
     },
     "execution_count": 4,
     "metadata": {},
     "output_type": "execute_result"
    }
   ],
   "source": [
    "dataset.describe()"
   ]
  },
  {
   "cell_type": "code",
   "execution_count": 5,
   "id": "e91180a2",
   "metadata": {},
   "outputs": [
    {
     "data": {
      "text/plain": [
       "<seaborn.axisgrid.FacetGrid at 0x2043050c490>"
      ]
     },
     "execution_count": 5,
     "metadata": {},
     "output_type": "execute_result"
    },
    {
     "data": {
      "image/png": "[encoded data removed]",
      "text/plain": [
       "<Figure size 360x360 with 1 Axes>"
      ]
     },
     "metadata": {
      "needs_background": "light"
     },
     "output_type": "display_data"
    }
   ],
   "source": [
    "import matplotlib.pyplot as plt\n",
    "import seaborn as sns\n",
    "sns.catplot(x = 'quality', data = dataset, kind = 'count')"
   ]
  },
  {
   "cell_type": "code",
   "execution_count": 6,
   "id": "31bec740",
   "metadata": {},
   "outputs": [
    {
     "data": {
      "text/plain": [
       "Index(['fixed acidity', 'volatile acidity', 'citric acid', 'residual sugar',\n",
       "       'chlorides', 'free sulfur dioxide', 'total sulfur dioxide', 'density',\n",
       "       'pH', 'sulphates', 'alcohol', 'quality'],\n",
       "      dtype='object')"
      ]
     },
     "execution_count": 6,
     "metadata": {},
     "output_type": "execute_result"
    }
   ],
   "source": [
    "# acidity vs quality\n",
    "dataset.columns"
   ]
  },
  {
   "cell_type": "code",
   "execution_count": 7,
   "id": "6919a460",
   "metadata": {},
   "outputs": [
    {
     "data": {
      "text/plain": [
       "[(0, 'fixed acidity'), (1, 'volatile acidity'), (2, 'citric acid')]"
      ]
     },
     "execution_count": 7,
     "metadata": {},
     "output_type": "execute_result"
    }
   ],
   "source": [
    "feature = ['fixed acidity', 'volatile acidity', 'citric acid']\n",
    "list(enumerate(feature))"
   ]
  },
  {
   "cell_type": "code",
   "execution_count": 8,
   "id": "52ee180b",
   "metadata": {},
   "outputs": [
    {
     "data": {
      "image/png": "[encoded data removed]",
      "text/plain": [
       "<Figure size 1440x1800 with 3 Axes>"
      ]
     },
     "metadata": {
      "needs_background": "light"
     },
     "output_type": "display_data"
    }
   ],
   "source": [
    "plt.figure(figsize=(20,25))\n",
    "for i in enumerate(feature):\n",
    "    plt.subplot(3,3, i[0] + 1)\n",
    "    sns.barplot(x='quality', y = i[1], data=dataset)"
   ]
  },
  {
   "cell_type": "markdown",
   "id": "e56b9273",
   "metadata": {},
   "source": [
    "### correlation"
   ]
  },
  {
   "cell_type": "code",
   "execution_count": 9,
   "id": "c3c3bc61",
   "metadata": {},
   "outputs": [],
   "source": [
    "correlation = dataset.corr()"
   ]
  },
  {
   "cell_type": "code",
   "execution_count": 10,
   "id": "5d36c51c",
   "metadata": {},
   "outputs": [
    {
     "data": {
      "text/plain": [
       "<AxesSubplot:>"
      ]
     },
     "execution_count": 10,
     "metadata": {},
     "output_type": "execute_result"
    },
    {
     "data": {
      "image/png": "[encoded data removed]",
      "text/plain": [
       "<Figure size 720x720 with 2 Axes>"
      ]
     },
     "metadata": {
      "needs_background": "light"
     },
     "output_type": "display_data"
    }
   ],
   "source": [
    "plt.figure(figsize=(10,10))\n",
    "sns.heatmap(correlation, \n",
    "            cbar = True, \n",
    "            square = True, \n",
    "            fmt = '.1f', \n",
    "            annot = True, \n",
    "            annot_kws = {'size' : 8}, \n",
    "            cmap = 'rocket')"
   ]
  },
  {
   "cell_type": "code",
   "execution_count": 11,
   "id": "271215d6",
   "metadata": {},
   "outputs": [],
   "source": [
    "X = dataset.drop('quality', axis = 1)\n",
    "# kalite değerleri 3,4,5,6,7,8 bunları ikili kale getireceğiz ki label 0 1 mantığı olsun\n",
    "y = dataset['quality'].apply(lambda _value : 1 if _value >= 7 else 0) # _value >= 7 mi True ise 1 olsun değilse 0 olsun\n",
    "from sklearn.model_selection import train_test_split\n",
    "X_train, X_test, y_train, y_test = train_test_split(X,\n",
    "                                                   y,\n",
    "                                                   test_size = 0.20,\n",
    "                                                   random_state =2)"
   ]
  },
  {
   "cell_type": "code",
   "execution_count": 12,
   "id": "6484902f",
   "metadata": {},
   "outputs": [
    {
     "name": "stdout",
     "output_type": "stream",
     "text": [
      "accuracy score: 0.903125\n"
     ]
    }
   ],
   "source": [
    "from sklearn.ensemble import RandomForestClassifier\n",
    "rf_model = RandomForestClassifier()\n",
    "rf_model.fit(X_train, y_train)\n",
    "y_pred = rf_model.predict(X_test)\n",
    "\n",
    "from sklearn.metrics import accuracy_score\n",
    "y_pred = rf_model.predict(X_test)\n",
    "accuracy = accuracy_score(y_pred, y_test)\n",
    "print('accuracy score: {}'.format(accuracy))"
   ]
  },
  {
   "cell_type": "code",
   "execution_count": 13,
   "id": "036da2e6",
   "metadata": {},
   "outputs": [],
   "source": [
    "rf_params = {'max_depth' : list(range(1,10)),\n",
    "            'max_features' : [2,3,5,10, 15],\n",
    "            'n_estimators' : [200, 500, 1000, 2000],\n",
    "            'min_samples_split' : [2, 5, 10]}"
   ]
  },
  {
   "cell_type": "code",
   "execution_count": 14,
   "id": "94217018",
   "metadata": {},
   "outputs": [],
   "source": [
    "rf_model = RandomForestClassifier(random_state=42)\n",
    "\n",
    "from sklearn.model_selection import GridSearchCV\n",
    "rf_cv_model = GridSearchCV(rf_model,\n",
    "                          rf_params,\n",
    "                          cv = 10,\n",
    "                          n_jobs = -1) #"
   ]
  },
  {
   "cell_type": "code",
   "execution_count": 15,
   "id": "43ff2028",
   "metadata": {},
   "outputs": [
    {
     "name": "stderr",
     "output_type": "stream",
     "text": [
      "C:\\Users\\Client\\anaconda3\\lib\\site-packages\\sklearn\\model_selection\\_search.py:918: UserWarning: One or more of the test scores are non-finite: [0.86239542 0.86239542 0.86239542 0.86239542 0.86239542 0.86239542\n",
      " 0.86239542 0.86239542 0.86239542 0.86239542 0.86239542 0.86239542\n",
      " 0.86239542 0.86239542 0.86239542 0.86239542 0.86239542 0.86239542\n",
      " 0.86239542 0.86239542 0.86239542 0.86239542 0.86239542 0.86239542\n",
      " 0.86239542 0.86239542 0.86239542 0.86239542 0.86239542 0.86239542\n",
      " 0.86239542 0.86239542 0.86239542 0.86239542 0.86239542 0.86239542\n",
      " 0.86239542 0.86239542 0.86239542 0.86239542 0.86239542 0.86239542\n",
      " 0.86239542 0.86239542 0.86239542 0.86239542 0.86239542 0.86239542\n",
      "        nan        nan        nan        nan        nan        nan\n",
      "        nan        nan        nan        nan        nan        nan\n",
      " 0.86239542 0.86239542 0.86239542 0.86239542 0.86239542 0.86239542\n",
      " 0.86239542 0.86239542 0.86239542 0.86239542 0.86239542 0.86239542\n",
      " 0.86318282 0.86396407 0.86239542 0.86239542 0.86318282 0.86396407\n",
      " 0.86239542 0.86239542 0.86318282 0.86396407 0.86239542 0.86239542\n",
      " 0.87335753 0.87335753 0.87257628 0.87257628 0.87335753 0.87335753\n",
      " 0.87257628 0.87257628 0.87335753 0.87335753 0.87179503 0.87257628\n",
      " 0.87570128 0.87726378 0.87726993 0.87726993 0.87570128 0.87726378\n",
      " 0.87726993 0.87726993 0.87570128 0.87726378 0.87726993 0.87726993\n",
      "        nan        nan        nan        nan        nan        nan\n",
      "        nan        nan        nan        nan        nan        nan\n",
      " 0.87100148 0.87178888 0.87100148 0.87178273 0.87100148 0.87100763\n",
      " 0.87100148 0.87178273 0.87178273 0.87257013 0.87022023 0.87022023\n",
      " 0.87648868 0.87648868 0.87414493 0.87805118 0.87726993 0.87648868\n",
      " 0.87492618 0.87726993 0.87648868 0.87726993 0.87492618 0.87726993\n",
      " 0.88117618 0.88196358 0.88118233 0.88040108 0.88039493 0.88039493\n",
      " 0.88196358 0.88118233 0.88195743 0.88040108 0.88196358 0.88118233\n",
      " 0.88039493 0.88038878 0.88195128 0.88195128 0.88039493 0.88038878\n",
      " 0.88195128 0.88195128 0.88117618 0.88117003 0.88195128 0.88195128\n",
      "        nan        nan        nan        nan        nan        nan\n",
      "        nan        nan        nan        nan        nan        nan\n",
      " 0.87961368 0.88039493 0.87883243 0.87805118 0.87960753 0.87805118\n",
      " 0.87883243 0.87805118 0.88038878 0.87805118 0.87804503 0.87648868\n",
      " 0.88273253 0.88194513 0.88116388 0.88116388 0.88195743 0.88272638\n",
      " 0.88194513 0.88116388 0.88351378 0.88350763 0.88272638 0.88194513\n",
      " 0.88194513 0.88585753 0.88742003 0.88742003 0.88272638 0.88585753\n",
      " 0.88663878 0.88742003 0.88272638 0.88742003 0.88585138 0.88663263\n",
      " 0.88117003 0.88351993 0.88273253 0.88273253 0.88195128 0.88273868\n",
      " 0.88273253 0.88273253 0.88117003 0.88273868 0.88273868 0.88273253\n",
      "        nan        nan        nan        nan        nan        nan\n",
      "        nan        nan        nan        nan        nan        nan\n",
      " 0.88742003 0.88507628 0.88585753 0.88507013 0.88507628 0.88351378\n",
      " 0.88351378 0.88272638 0.88507013 0.88350763 0.88350763 0.88350763\n",
      " 0.88975763 0.88976993 0.89133243 0.89132628 0.89211368 0.89133243\n",
      " 0.89133243 0.88976378 0.88976993 0.88820128 0.88976993 0.88820128\n",
      " 0.88976378 0.88819513 0.88897638 0.88975763 0.88897638 0.88663263\n",
      " 0.88897638 0.88897638 0.88663878 0.88741388 0.88741388 0.88897638\n",
      " 0.88900098 0.88978223 0.88821358 0.88742618 0.88898253 0.88821358\n",
      " 0.88899483 0.88820743 0.88585753 0.88743233 0.88820743 0.88820743\n",
      "        nan        nan        nan        nan        nan        nan\n",
      "        nan        nan        nan        nan        nan        nan\n",
      " 0.88897638 0.89210753 0.88976378 0.89288878 0.88742003 0.89367003\n",
      " 0.89132628 0.89132628 0.89132628 0.89132628 0.89054503 0.89054503\n",
      " 0.89210138 0.89367003 0.89288878 0.89367003 0.88742003 0.89054503\n",
      " 0.89288878 0.89288878 0.89055118 0.89133243 0.89132013 0.89054503\n",
      " 0.89366388 0.89522023 0.89522023 0.89757013 0.89210138 0.89288263\n",
      " 0.89366388 0.89444513 0.89210753 0.89367003 0.89209523 0.89210138\n",
      " 0.89445743 0.89758243 0.89602608 0.89680118 0.89445743 0.89367618\n",
      " 0.89367618 0.89366388 0.89133243 0.89133243 0.89132628 0.89210753\n",
      "        nan        nan        nan        nan        nan        nan\n",
      "        nan        nan        nan        nan        nan        nan\n",
      " 0.89758858 0.89757628 0.89914493 0.89836368 0.89445128 0.89443898\n",
      " 0.89444513 0.89523253 0.89288878 0.89131398 0.89211368 0.89132628\n",
      " 0.89678888 0.89835753 0.89913878 0.89678273 0.89288263 0.89600148\n",
      " 0.89522638 0.89757013 0.89444513 0.89366388 0.89288263 0.89366388\n",
      " 0.89678888 0.89522638 0.89523253 0.89757628 0.89445128 0.89679503\n",
      " 0.89600763 0.89678888 0.88975763 0.89132013 0.89444513 0.89600763\n",
      " 0.89681348 0.89758858 0.89602608 0.89758858 0.89680733 0.89367618\n",
      " 0.89601993 0.89601378 0.89601993 0.89367003 0.89523868 0.89758243\n",
      "        nan        nan        nan        nan        nan        nan\n",
      "        nan        nan        nan        nan        nan        nan\n",
      " 0.89600148 0.89758243 0.89758243 0.89915108 0.89443898 0.89522638\n",
      " 0.89444513 0.89365773 0.89132013 0.89210138 0.89210753 0.89367003\n",
      " 0.90071358 0.89679503 0.89835138 0.89834523 0.89365773 0.89444513\n",
      " 0.89756398 0.89834523 0.89210138 0.89209523 0.89443898 0.89443898\n",
      " 0.89835753 0.89835753 0.90070128 0.89992618 0.89679503 0.89601378\n",
      " 0.89914493 0.89992618 0.89522638 0.89522638 0.89522638 0.89600763\n",
      " 0.89837598 0.89837598 0.89681348 0.89602608 0.89681348 0.89680733\n",
      " 0.89758858 0.89758858 0.89367618 0.89289493 0.89133243 0.89679503\n",
      "        nan        nan        nan        nan        nan        nan\n",
      "        nan        nan        nan        nan        nan        nan\n",
      " 0.89916339 0.89993233 0.89758858 0.89836983 0.89600148 0.89913878\n",
      " 0.89835753 0.89757013 0.89132013 0.89288263 0.89445128 0.89210138\n",
      " 0.90147638 0.90148868 0.89835753 0.89836368 0.89287648 0.89914493\n",
      " 0.89678888 0.89757013 0.89444513 0.89443898 0.89522023 0.89522023\n",
      " 0.89758858 0.89993233 0.89915108 0.90305733 0.89523868 0.89680118\n",
      " 0.89680118 0.89836368 0.89445128 0.89367003 0.89523253 0.89444513\n",
      " 0.90228839 0.90073204 0.89994464 0.89759473 0.89836983 0.89836983\n",
      " 0.89993848 0.90228223 0.89758243 0.89523868 0.89445128 0.89601378\n",
      "        nan        nan        nan        nan        nan        nan\n",
      "        nan        nan        nan        nan        nan        nan]\n",
      "  warnings.warn(\n"
     ]
    },
    {
     "data": {
      "text/plain": [
       "GridSearchCV(cv=10, estimator=RandomForestClassifier(random_state=42),\n",
       "             n_jobs=-1,\n",
       "             param_grid={'max_depth': [1, 2, 3, 4, 5, 6, 7, 8, 9],\n",
       "                         'max_features': [2, 3, 5, 10, 15],\n",
       "                         'min_samples_split': [2, 5, 10],\n",
       "                         'n_estimators': [200, 500, 1000, 2000]})"
      ]
     },
     "execution_count": 15,
     "metadata": {},
     "output_type": "execute_result"
    }
   ],
   "source": [
    "rf_cv_model.fit(X_train, y_train)"
   ]
  },
  {
   "cell_type": "code",
   "execution_count": 16,
   "id": "33e4eb1f",
   "metadata": {},
   "outputs": [
    {
     "data": {
      "text/plain": [
       "{'max_depth': 9,\n",
       " 'max_features': 5,\n",
       " 'min_samples_split': 2,\n",
       " 'n_estimators': 2000}"
      ]
     },
     "execution_count": 16,
     "metadata": {},
     "output_type": "execute_result"
    }
   ],
   "source": [
    "rf_cv_model.best_params_"
   ]
  },
  {
   "cell_type": "code",
   "execution_count": 24,
   "id": "d66b158b",
   "metadata": {},
   "outputs": [],
   "source": [
    "rf_tuned = RandomForestClassifier(max_depth=9, max_features=5, n_estimators = 2000,min_samples_split = 2, random_state=42)\n",
    "rf_tuned.fit(X_train, y_train)\n",
    "y_pred = rf_tuned.predict(X_test)"
   ]
  },
  {
   "cell_type": "code",
   "execution_count": 25,
   "id": "9e5bc8bc",
   "metadata": {},
   "outputs": [
    {
     "name": "stdout",
     "output_type": "stream",
     "text": [
      "accuracy score: 0.91875\n"
     ]
    }
   ],
   "source": [
    "accuracy = accuracy_score(y_pred, y_test)\n",
    "print('accuracy score: {}'.format(accuracy))"
   ]
  },
  {
   "cell_type": "code",
   "execution_count": 27,
   "id": "f57b10ea",
   "metadata": {},
   "outputs": [
    {
     "name": "stdout",
     "output_type": "stream",
     "text": [
      "Poor quality\n"
     ]
    }
   ],
   "source": [
    "# predictive system\n",
    "_input = (8.3,0.65,0.1,2.9,0.08900000000000001,17.0,40.0,0.99803,3.29,0.55,9.5)\n",
    "import numpy as np\n",
    "input_array = np.asarray(_input)\n",
    "input_reshape = input_array.reshape(1,-1)\n",
    "pred = rf_tuned.predict(input_reshape)\n",
    "if pred == 1 :\n",
    "    print(\"Good quality\")\n",
    "else : \n",
    "    print(\"Poor quality\")"
   ]
  }
 ],
 "metadata": {
  "kernelspec": {
   "display_name": "Python 3",
   "language": "python",
   "name": "python3"
  },
  "language_info": {
   "codemirror_mode": {
    "name": "ipython",
    "version": 3
   },
   "file_extension": ".py",
   "mimetype": "text/x-python",
   "name": "python",
   "nbconvert_exporter": "python",
   "pygments_lexer": "ipython3",
   "version": "3.8.8"
  }
 },
 "nbformat": 4,
 "nbformat_minor": 5
}
